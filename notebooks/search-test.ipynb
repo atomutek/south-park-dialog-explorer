{
 "cells": [
  {
   "cell_type": "markdown",
   "metadata": {},
   "source": [
    "# Search\n",
    "\n",
    "Compare different methods of searching for a substring in another string."
   ]
  },
  {
   "cell_type": "code",
   "execution_count": 1,
   "metadata": {},
   "outputs": [],
   "source": [
    "%load_ext autoreload\n",
    "%autoreload 2"
   ]
  },
  {
   "cell_type": "markdown",
   "metadata": {},
   "source": [
    "## Import data"
   ]
  },
  {
   "cell_type": "code",
   "execution_count": 2,
   "metadata": {},
   "outputs": [],
   "source": [
    "import pandas as pd"
   ]
  },
  {
   "cell_type": "code",
   "execution_count": 3,
   "metadata": {},
   "outputs": [],
   "source": [
    "DATA_FILE = '../data/southpark-all-seasons.csv'\n",
    "\n",
    "df = pd.read_csv(DATA_FILE)\n",
    "lowercase = lambda x: str(x).lower()\n",
    "df.rename(lowercase, axis='columns', inplace=True)"
   ]
  },
  {
   "cell_type": "code",
   "execution_count": 4,
   "metadata": {},
   "outputs": [
    {
     "data": {
      "text/html": [
       "<div>\n",
       "<style scoped>\n",
       "    .dataframe tbody tr th:only-of-type {\n",
       "        vertical-align: middle;\n",
       "    }\n",
       "\n",
       "    .dataframe tbody tr th {\n",
       "        vertical-align: top;\n",
       "    }\n",
       "\n",
       "    .dataframe thead th {\n",
       "        text-align: right;\n",
       "    }\n",
       "</style>\n",
       "<table border=\"1\" class=\"dataframe\">\n",
       "  <thead>\n",
       "    <tr style=\"text-align: right;\">\n",
       "      <th></th>\n",
       "      <th>season</th>\n",
       "      <th>episode</th>\n",
       "      <th>character</th>\n",
       "      <th>line</th>\n",
       "    </tr>\n",
       "  </thead>\n",
       "  <tbody>\n",
       "    <tr>\n",
       "      <th>0</th>\n",
       "      <td>10</td>\n",
       "      <td>1</td>\n",
       "      <td>Stan</td>\n",
       "      <td>You guys, you guys! Chef is going away. \\n</td>\n",
       "    </tr>\n",
       "    <tr>\n",
       "      <th>1</th>\n",
       "      <td>10</td>\n",
       "      <td>1</td>\n",
       "      <td>Kyle</td>\n",
       "      <td>Going away? For how long?\\n</td>\n",
       "    </tr>\n",
       "    <tr>\n",
       "      <th>2</th>\n",
       "      <td>10</td>\n",
       "      <td>1</td>\n",
       "      <td>Stan</td>\n",
       "      <td>Forever.\\n</td>\n",
       "    </tr>\n",
       "    <tr>\n",
       "      <th>3</th>\n",
       "      <td>10</td>\n",
       "      <td>1</td>\n",
       "      <td>Chef</td>\n",
       "      <td>I'm sorry boys.\\n</td>\n",
       "    </tr>\n",
       "    <tr>\n",
       "      <th>4</th>\n",
       "      <td>10</td>\n",
       "      <td>1</td>\n",
       "      <td>Stan</td>\n",
       "      <td>Chef said he's been bored, so he joining a gro...</td>\n",
       "    </tr>\n",
       "  </tbody>\n",
       "</table>\n",
       "</div>"
      ],
      "text/plain": [
       "  season episode character                                               line\n",
       "0     10       1      Stan         You guys, you guys! Chef is going away. \\n\n",
       "1     10       1      Kyle                        Going away? For how long?\\n\n",
       "2     10       1      Stan                                         Forever.\\n\n",
       "3     10       1      Chef                                  I'm sorry boys.\\n\n",
       "4     10       1      Stan  Chef said he's been bored, so he joining a gro..."
      ]
     },
     "execution_count": 4,
     "metadata": {},
     "output_type": "execute_result"
    }
   ],
   "source": [
    "df.head()"
   ]
  },
  {
   "cell_type": "markdown",
   "metadata": {},
   "source": [
    "## Search parameters"
   ]
  },
  {
   "cell_type": "code",
   "execution_count": 5,
   "metadata": {},
   "outputs": [],
   "source": [
    "string_to_find = \"They killed Kenny\"\n",
    "test_a = \"They didn't kill Kenny\"\n",
    "test_b = \"You guys, you guys! Chef is going away to see kenny.\"\n",
    "test_c = \"they killed him, Kenny\"\n",
    "test_d = \"They did it! They killed him!\"\n",
    "\n",
    "tests = [test_a, test_b, test_c, test_d]"
   ]
  },
  {
   "cell_type": "markdown",
   "metadata": {},
   "source": [
    "## 1st method: brute-force"
   ]
  },
  {
   "cell_type": "code",
   "execution_count": 6,
   "metadata": {},
   "outputs": [],
   "source": [
    "def find_brute_force(string, string_to_find):\n",
    "    return all(keyword.lower() in string.lower() for keyword in string_to_find.lower().split())"
   ]
  },
  {
   "cell_type": "markdown",
   "metadata": {},
   "source": [
    "### Test strings"
   ]
  },
  {
   "cell_type": "code",
   "execution_count": 7,
   "metadata": {},
   "outputs": [
    {
     "name": "stdout",
     "output_type": "stream",
     "text": [
      "They didn't kill Kenny False\n",
      "You guys, you guys! Chef is going away to see kenny. False\n",
      "they killed him, Kenny True\n",
      "They did it! They killed him! False\n",
      "CPU times: user 740 µs, sys: 639 µs, total: 1.38 ms\n",
      "Wall time: 865 µs\n"
     ]
    }
   ],
   "source": [
    "%%time\n",
    "for test_str in tests:\n",
    "    print(test_str, find_brute_force(test_str, string_to_find))"
   ]
  },
  {
   "cell_type": "code",
   "execution_count": 8,
   "metadata": {},
   "outputs": [
    {
     "name": "stdout",
     "output_type": "stream",
     "text": [
      "4.95 µs ± 80.4 ns per loop (mean ± std. dev. of 7 runs, 100000 loops each)\n"
     ]
    }
   ],
   "source": [
    "%%timeit\n",
    "for test_str in tests:\n",
    "    find_brute_force(test_str, string_to_find)"
   ]
  },
  {
   "cell_type": "markdown",
   "metadata": {},
   "source": [
    "### Data strings"
   ]
  },
  {
   "cell_type": "code",
   "execution_count": 9,
   "metadata": {},
   "outputs": [
    {
     "name": "stdout",
     "output_type": "stream",
     "text": [
      "Aaaah!  Oh my God, they killed Kenny!\n",
      "Oh my God. Oh my God, they- they killed Kenny!\n",
      "Oh my God, they killed Kenny! YOU BASTARDS!\n",
      "No, not they, YOU! Look what your ziplining idea has done! You killed Kenny, YOU're the bastard!\n",
      "Oh my God! They've killed Kenny!\n",
      "Cartman, they killed Kenny!\n",
      "Huh, Oh my God, they killed Kenny! You bastard! \n",
      "Oh my God, they killed Kenny!\n",
      "Wha-? Oh my God, they killed Kenny! You Bastards!\n",
      "Oh my God, they killed Kenny! You bastards!\n",
      "Oh my God, they killed Kenny. You Bastard!!!\n",
      "Oh my God! They killed Kenny!\n",
      "Oh my god, they've killed Kenny!\n",
      "Oh my God, they killed Kenny.\n",
      "Oh my God, they killed Kenny!\n",
      "Oh my God, they've killed Kenny.\n",
      "Oh my God, they've killed Kenny!\n",
      "Oh my God, they've killed Kenny!\n",
      "Oh my God, they killed Kenny!\n",
      "Oh, my God! They've killed Kenny!\n",
      "Oh my God! They've killed Kenny!\n",
      "Oh, my God! They killed Kenny!\n",
      "Oh my God, they've killed Kenny!\n",
      "Oh my God, they killed Kenny!\n",
      "Oh my God, they killed Kenny!\n",
      "Oh my God, they killed Kenny.\n",
      "Oh my God, they killed Kenny! \n",
      "Oh my God, they killed Kenny.\n",
      "Oh my God, they killed Kenny!\n",
      "Oh my God, they killed Kenny!\n",
      "Oh my God! They killed Kenny!\n",
      "Oh, my God! They killed Kenny!\n",
      "Oh my God, they killed Kenny!\n",
      "...Oh my God, they've killed Kenny!\n",
      "...they've killed Kenny!\n",
      "Oh my God, they've killed Kenny!\n",
      "Oh my God, they've killed Kenny!\n",
      "Oh my God, they've killed Kenny! ...Sort of.\n",
      "Yeah. They've kinda killed Kenny -'s look-alike. You bastards!\n",
      "Kyle??  Oh my God, they've killed Kenny!\n",
      "Kyle?  Oh my God, they've killed Kenny!\n",
      "Oh my God, they've killed Kenny!\n",
      "Oh my God, they've killed Kenny!\n",
      "Oh my God, they killed Kenny!\n",
      "They killed Kenny!\n",
      "Oh my God, they killed Kenny! Get him into the command station! Hurry!  Satan's army charges! Tell our troops what to do, Kenny!  So it begins.  Now we shall see the final battle between Heaven and Hell play out!  Yesss, good, Kenny! The angel spearmen are taking out their demon soul rippers! Oh, the cavalry angels are clashing with their Black Knights! Oh my God! My God, this battle is epic! Ohh, they're bringing in their demon dragons! Look at the size of them! My God, this is even bigger than the final battle in the Lord of the Rings movie! It's like, it's like TEN times bigger than that battle!\n",
      "CPU times: user 121 ms, sys: 3.2 ms, total: 124 ms\n",
      "Wall time: 123 ms\n"
     ]
    }
   ],
   "source": [
    "%%time\n",
    "for test_str in df.line:\n",
    "    res = find_brute_force(test_str, string_to_find)\n",
    "    if res:\n",
    "        print(test_str.replace('\\n', ''))"
   ]
  },
  {
   "cell_type": "code",
   "execution_count": 10,
   "metadata": {},
   "outputs": [
    {
     "name": "stdout",
     "output_type": "stream",
     "text": [
      "75.8 ms ± 554 µs per loop (mean ± std. dev. of 7 runs, 10 loops each)\n"
     ]
    }
   ],
   "source": [
    "%%timeit\n",
    "for test_str in df.line:\n",
    "    find_brute_force(test_str, string_to_find)"
   ]
  },
  {
   "cell_type": "markdown",
   "metadata": {},
   "source": [
    "## Regex"
   ]
  },
  {
   "cell_type": "code",
   "execution_count": 11,
   "metadata": {},
   "outputs": [],
   "source": [
    "import re"
   ]
  },
  {
   "cell_type": "code",
   "execution_count": 12,
   "metadata": {},
   "outputs": [],
   "source": [
    "def find_regex(string, string_to_find):\n",
    "    return set(re.findall(r'|'.join(string_to_find.lower().split()), string.lower(), re.IGNORECASE))"
   ]
  },
  {
   "cell_type": "markdown",
   "metadata": {},
   "source": [
    "### Test strings"
   ]
  },
  {
   "cell_type": "code",
   "execution_count": 13,
   "metadata": {},
   "outputs": [
    {
     "name": "stdout",
     "output_type": "stream",
     "text": [
      "They didn't kill Kenny False\n",
      "You guys, you guys! Chef is going away to see kenny. False\n",
      "they killed him, Kenny True\n",
      "They did it! They killed him! False\n",
      "CPU times: user 1.25 ms, sys: 1 ms, total: 2.25 ms\n",
      "Wall time: 1.51 ms\n"
     ]
    }
   ],
   "source": [
    "%%time\n",
    "\n",
    "truth_len = len(string_to_find.split())\n",
    "\n",
    "for test_str in tests:\n",
    "    print(test_str, truth_len == len(find_regex(test_str, string_to_find)))"
   ]
  },
  {
   "cell_type": "code",
   "execution_count": 14,
   "metadata": {},
   "outputs": [
    {
     "name": "stdout",
     "output_type": "stream",
     "text": [
      "13.3 µs ± 179 ns per loop (mean ± std. dev. of 7 runs, 100000 loops each)\n"
     ]
    }
   ],
   "source": [
    "%%timeit\n",
    "for test_str in tests:\n",
    "    find_regex(test_str, string_to_find)"
   ]
  },
  {
   "cell_type": "markdown",
   "metadata": {},
   "source": [
    "### Data strings"
   ]
  },
  {
   "cell_type": "code",
   "execution_count": 15,
   "metadata": {
    "scrolled": false
   },
   "outputs": [
    {
     "name": "stdout",
     "output_type": "stream",
     "text": [
      "Aaaah!  Oh my God, they killed Kenny!\n",
      "Oh my God. Oh my God, they- they killed Kenny!\n",
      "Oh my God, they killed Kenny! YOU BASTARDS!\n",
      "No, not they, YOU! Look what your ziplining idea has done! You killed Kenny, YOU're the bastard!\n",
      "Oh my God! They've killed Kenny!\n",
      "Cartman, they killed Kenny!\n",
      "Huh, Oh my God, they killed Kenny! You bastard! \n",
      "Oh my God, they killed Kenny!\n",
      "Wha-? Oh my God, they killed Kenny! You Bastards!\n",
      "Oh my God, they killed Kenny! You bastards!\n",
      "Oh my God, they killed Kenny. You Bastard!!!\n",
      "Oh my God! They killed Kenny!\n",
      "Oh my god, they've killed Kenny!\n",
      "Oh my God, they killed Kenny.\n",
      "Oh my God, they killed Kenny!\n",
      "Oh my God, they've killed Kenny.\n",
      "Oh my God, they've killed Kenny!\n",
      "Oh my God, they've killed Kenny!\n",
      "Oh my God, they killed Kenny!\n",
      "Oh, my God! They've killed Kenny!\n",
      "Oh my God! They've killed Kenny!\n",
      "Oh, my God! They killed Kenny!\n",
      "Oh my God, they've killed Kenny!\n",
      "Oh my God, they killed Kenny!\n",
      "Oh my God, they killed Kenny!\n",
      "Oh my God, they killed Kenny.\n",
      "Oh my God, they killed Kenny! \n",
      "Oh my God, they killed Kenny.\n",
      "Oh my God, they killed Kenny!\n",
      "Oh my God, they killed Kenny!\n",
      "Oh my God! They killed Kenny!\n",
      "Oh, my God! They killed Kenny!\n",
      "Oh my God, they killed Kenny!\n",
      "...Oh my God, they've killed Kenny!\n",
      "...they've killed Kenny!\n",
      "Oh my God, they've killed Kenny!\n",
      "Oh my God, they've killed Kenny!\n",
      "Oh my God, they've killed Kenny! ...Sort of.\n",
      "Yeah. They've kinda killed Kenny -'s look-alike. You bastards!\n",
      "Kyle??  Oh my God, they've killed Kenny!\n",
      "Kyle?  Oh my God, they've killed Kenny!\n",
      "Oh my God, they've killed Kenny!\n",
      "Oh my God, they've killed Kenny!\n",
      "Oh my God, they killed Kenny!\n",
      "They killed Kenny!\n",
      "Oh my God, they killed Kenny! Get him into the command station! Hurry!  Satan's army charges! Tell our troops what to do, Kenny!  So it begins.  Now we shall see the final battle between Heaven and Hell play out!  Yesss, good, Kenny! The angel spearmen are taking out their demon soul rippers! Oh, the cavalry angels are clashing with their Black Knights! Oh my God! My God, this battle is epic! Ohh, they're bringing in their demon dragons! Look at the size of them! My God, this is even bigger than the final battle in the Lord of the Rings movie! It's like, it's like TEN times bigger than that battle!\n",
      "CPU times: user 352 ms, sys: 4.06 ms, total: 357 ms\n",
      "Wall time: 354 ms\n"
     ]
    }
   ],
   "source": [
    "%%time\n",
    "for test_str in df.line:\n",
    "    res = (truth_len == len(find_regex(test_str, string_to_find)))\n",
    "\n",
    "    if res:\n",
    "        print(test_str.replace('\\n', ''))"
   ]
  },
  {
   "cell_type": "code",
   "execution_count": 16,
   "metadata": {},
   "outputs": [
    {
     "name": "stdout",
     "output_type": "stream",
     "text": [
      "316 ms ± 7.91 ms per loop (mean ± std. dev. of 7 runs, 1 loop each)\n"
     ]
    }
   ],
   "source": [
    "%%timeit\n",
    "for test_str in df.line:\n",
    "    find_regex(test_str, string_to_find)"
   ]
  },
  {
   "cell_type": "markdown",
   "metadata": {},
   "source": [
    "## Aho-Corasick algorithm\n",
    "\n",
    "This algorithm is case-sensitive."
   ]
  },
  {
   "cell_type": "code",
   "execution_count": 17,
   "metadata": {},
   "outputs": [],
   "source": [
    "from aho_corasick import aho_corasick"
   ]
  },
  {
   "cell_type": "markdown",
   "metadata": {},
   "source": [
    "### Test strings"
   ]
  },
  {
   "cell_type": "code",
   "execution_count": 18,
   "metadata": {},
   "outputs": [
    {
     "name": "stdout",
     "output_type": "stream",
     "text": [
      "They didn't kill Kenny False\n",
      "You guys, you guys! Chef is going away to see kenny. False\n",
      "they killed him, Kenny True\n",
      "They did it! They killed him! False\n",
      "CPU times: user 430 µs, sys: 109 µs, total: 539 µs\n",
      "Wall time: 456 µs\n"
     ]
    }
   ],
   "source": [
    "%%time\n",
    "\n",
    "truth_len = len(string_to_find.split())\n",
    "\n",
    "for test_str in tests:\n",
    "#     print(aho_corasick(test_str.lower(), string_to_find.lower().split()))\n",
    "    print(test_str, truth_len == len(set(aho_corasick(test_str.lower(), string_to_find.lower().split()))))"
   ]
  },
  {
   "cell_type": "code",
   "execution_count": 19,
   "metadata": {},
   "outputs": [
    {
     "name": "stdout",
     "output_type": "stream",
     "text": [
      "144 µs ± 2.17 µs per loop (mean ± std. dev. of 7 runs, 10000 loops each)\n"
     ]
    }
   ],
   "source": [
    "%%timeit\n",
    "\n",
    "for test_str in tests:\n",
    "    truth_len == len(set(aho_corasick(test_str.lower(), string_to_find.lower().split())))"
   ]
  },
  {
   "cell_type": "markdown",
   "metadata": {},
   "source": [
    "### Data strings"
   ]
  },
  {
   "cell_type": "code",
   "execution_count": 20,
   "metadata": {
    "scrolled": false
   },
   "outputs": [
    {
     "name": "stdout",
     "output_type": "stream",
     "text": [
      "Aaaah!  Oh my God, they killed Kenny!\n",
      "Oh my God. Oh my God, they- they killed Kenny!\n",
      "Oh my God, they killed Kenny! YOU BASTARDS!\n",
      "No, not they, YOU! Look what your ziplining idea has done! You killed Kenny, YOU're the bastard!\n",
      "Oh my God! They've killed Kenny!\n",
      "Cartman, they killed Kenny!\n",
      "Huh, Oh my God, they killed Kenny! You bastard! \n",
      "Oh my God, they killed Kenny!\n",
      "Wha-? Oh my God, they killed Kenny! You Bastards!\n",
      "Oh my God, they killed Kenny! You bastards!\n",
      "Oh my God, they killed Kenny. You Bastard!!!\n",
      "Oh my God! They killed Kenny!\n",
      "Oh my god, they've killed Kenny!\n",
      "Oh my God, they killed Kenny.\n",
      "Oh my God, they killed Kenny!\n",
      "Oh my God, they've killed Kenny.\n",
      "Oh my God, they've killed Kenny!\n",
      "Oh my God, they've killed Kenny!\n",
      "Oh my God, they killed Kenny!\n",
      "Oh, my God! They've killed Kenny!\n",
      "Oh my God! They've killed Kenny!\n",
      "Oh, my God! They killed Kenny!\n",
      "Oh my God, they've killed Kenny!\n",
      "Oh my God, they killed Kenny!\n",
      "Oh my God, they killed Kenny!\n",
      "Oh my God, they killed Kenny.\n",
      "Oh my God, they killed Kenny! \n",
      "Oh my God, they killed Kenny.\n",
      "Oh my God, they killed Kenny!\n",
      "Oh my God, they killed Kenny!\n",
      "Oh my God! They killed Kenny!\n",
      "Oh, my God! They killed Kenny!\n",
      "Oh my God, they killed Kenny!\n",
      "...Oh my God, they've killed Kenny!\n",
      "...they've killed Kenny!\n",
      "Oh my God, they've killed Kenny!\n",
      "Oh my God, they've killed Kenny!\n",
      "Oh my God, they've killed Kenny! ...Sort of.\n",
      "Yeah. They've kinda killed Kenny -'s look-alike. You bastards!\n",
      "Kyle??  Oh my God, they've killed Kenny!\n",
      "Kyle?  Oh my God, they've killed Kenny!\n",
      "Oh my God, they've killed Kenny!\n",
      "Oh my God, they've killed Kenny!\n",
      "Oh my God, they killed Kenny!\n",
      "They killed Kenny!\n",
      "Oh my God, they killed Kenny! Get him into the command station! Hurry!  Satan's army charges! Tell our troops what to do, Kenny!  So it begins.  Now we shall see the final battle between Heaven and Hell play out!  Yesss, good, Kenny! The angel spearmen are taking out their demon soul rippers! Oh, the cavalry angels are clashing with their Black Knights! Oh my God! My God, this battle is epic! Ohh, they're bringing in their demon dragons! Look at the size of them! My God, this is even bigger than the final battle in the Lord of the Rings movie! It's like, it's like TEN times bigger than that battle!\n",
      "CPU times: user 3.26 s, sys: 15.3 ms, total: 3.28 s\n",
      "Wall time: 3.28 s\n"
     ]
    }
   ],
   "source": [
    "%%time\n",
    "for test_str in df.line:\n",
    "    res = (truth_len == len(set(aho_corasick(test_str.lower(), string_to_find.lower().split()))))\n",
    "    if res:\n",
    "        print(test_str.replace('\\n', ''))"
   ]
  },
  {
   "cell_type": "code",
   "execution_count": 21,
   "metadata": {},
   "outputs": [
    {
     "name": "stdout",
     "output_type": "stream",
     "text": [
      "3.29 s ± 63 ms per loop (mean ± std. dev. of 7 runs, 1 loop each)\n"
     ]
    }
   ],
   "source": [
    "%%timeit\n",
    "for test_str in df.line:\n",
    "    aho_corasick(test_str.lower(), string_to_find.lower().split())"
   ]
  }
 ],
 "metadata": {
  "kernelspec": {
   "display_name": "stream",
   "language": "python",
   "name": "stream"
  },
  "language_info": {
   "codemirror_mode": {
    "name": "ipython",
    "version": 3
   },
   "file_extension": ".py",
   "mimetype": "text/x-python",
   "name": "python",
   "nbconvert_exporter": "python",
   "pygments_lexer": "ipython3",
   "version": "3.7.4"
  }
 },
 "nbformat": 4,
 "nbformat_minor": 4
}
